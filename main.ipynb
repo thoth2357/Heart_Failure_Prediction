{
 "cells": [
  {
   "cell_type": "code",
   "execution_count": 22,
   "metadata": {},
   "outputs": [],
   "source": [
    "from eda_module import Preprocessing\n",
    "import pandas as pd\n",
    "import seaborn as sns\n",
    "import numpy as np\n",
    "import matplotlib.pyplot as plt\n",
    "\n",
    "from sklearn.model_selection import train_test_split\n",
    "from sklearn.svm import SVC\n",
    "from sklearn.naive_bayes import GaussianNB\n",
    "from sklearn.neural_network import MLPClassifier\n",
    "from sklearn.linear_model import LogisticRegression\n",
    "from sklearn.neighbors import KNeighborsClassifier\n",
    "from sklearn.ensemble import RandomForestClassifier\n",
    "\n",
    "\n"
   ]
  },
  {
   "cell_type": "code",
   "execution_count": null,
   "metadata": {},
   "outputs": [],
   "source": [
    "#initialze classes, constansts and variables\n",
    "COLORS = sns.color_palette('bright')[0:5]\n",
    "DATASET = pd.read_csv('heart_failure_clinical_records_dataset.csv')\n",
    "preprocessor = Preprocessing(DATASET)\n",
    "\n",
    "#check for missing value and repair it if present\n",
    "missing_data_removed_Dataset = preprocessor.check_missing_value()\n",
    "\n",
    "#show descriptive statistics of the dataset, including mean median skewness and kurtosis\n",
    "preprocessor.descriptives(missing_data_removed_Dataset)\n",
    "\n",
    "# exploratory data analysis using visualizations\n",
    "#countplot distribution of death event\n",
    "sns.countplot(x='DEATH_EVENT', data=missing_data_removed_Dataset)\n",
    "plt.show()\n",
    "\n",
    "#boxplot distribution Death Event in respect to diabetes and age\n",
    "sns.boxplot(x='diabetes', y='age', hue='DEATH_EVENT', data=missing_data_removed_Dataset)\n",
    "plt.show()\n",
    "\n",
    "sns.catplot(x='DEATH_EVENT', y='ejection_fraction', data=missing_data_removed_Dataset, kind='box')\n",
    "plt.show()\n",
    "\n",
    "plt.pie(missing_data_removed_Dataset['diabetes'].value_counts(), colors=COLORS, labels=['No Diabetes', 'Diabetes'], autopct='%1.1f%%', shadow=True, startangle=90)\n",
    "plt.show()\n",
    "\n"
   ]
  },
  {
   "cell_type": "code",
   "execution_count": 24,
   "metadata": {},
   "outputs": [
    {
     "name": "stdout",
     "output_type": "stream",
     "text": [
      "All Models have been fitted successfully\n"
     ]
    }
   ],
   "source": []
  }
 ],
 "metadata": {
  "kernelspec": {
   "display_name": "base",
   "language": "python",
   "name": "python3"
  },
  "language_info": {
   "codemirror_mode": {
    "name": "ipython",
    "version": 3
   },
   "file_extension": ".py",
   "mimetype": "text/x-python",
   "name": "python",
   "nbconvert_exporter": "python",
   "pygments_lexer": "ipython3",
   "version": "3.9.12"
  },
  "orig_nbformat": 4,
  "vscode": {
   "interpreter": {
    "hash": "fedf8c85ff2f8c19347a51a3840e3309ccc16fc14237907ac70fb35b569aef71"
   }
  }
 },
 "nbformat": 4,
 "nbformat_minor": 2
}
